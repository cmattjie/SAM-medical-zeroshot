{
 "cells": [
  {
   "cell_type": "code",
   "execution_count": 4,
   "metadata": {},
   "outputs": [],
   "source": [
    "import os\n",
    "import pandas as pd\n",
    "\n",
    "# List all CSV files in the current directory\n",
    "csv_files = [file for file in os.listdir() if file.endswith(\".csv\")]\n",
    "#if there is a 'merged_data.csv' in the csv_files list, remove it\n",
    "if 'merged_data.csv' in csv_files:\n",
    "    csv_files.remove('merged_data.csv')\n",
    "# Initialize an empty list to store DataFrames\n",
    "data_frames = []\n",
    "\n",
    "for file in csv_files:\n",
    "    # Read the CSV file into a DataFrame\n",
    "    data = pd.read_csv(file, header=None, skiprows=1)\n",
    "    \n",
    "    # Get the experiment name by removing the '.csv' extension from the filename\n",
    "    experiment_name = file[:-4]\n",
    "    \n",
    "    # Add a new column 'experiment' with the experiment name as its value\n",
    "    data.insert(0, \"experiment\", experiment_name)\n",
    "    \n",
    "    # Append the data to the data_frames list\n",
    "    data_frames.append(data)\n",
    "\n",
    "# Concatenate all the DataFrames in the list\n",
    "merged_data = pd.concat(data_frames, ignore_index=True)\n",
    "\n",
    "# Write the merged data to a new CSV file\n",
    "header = [\"experiment\"] + open(csv_files[0]).readline().strip().split(\",\")\n",
    "merged_data.to_csv(\"merged_data.csv\", index=False, header=header)"
   ]
  }
 ],
 "metadata": {
  "kernelspec": {
   "display_name": "sam-meta",
   "language": "python",
   "name": "python3"
  },
  "language_info": {
   "codemirror_mode": {
    "name": "ipython",
    "version": 3
   },
   "file_extension": ".py",
   "mimetype": "text/x-python",
   "name": "python",
   "nbconvert_exporter": "python",
   "pygments_lexer": "ipython3",
   "version": "3.9.0"
  },
  "orig_nbformat": 4
 },
 "nbformat": 4,
 "nbformat_minor": 2
}
